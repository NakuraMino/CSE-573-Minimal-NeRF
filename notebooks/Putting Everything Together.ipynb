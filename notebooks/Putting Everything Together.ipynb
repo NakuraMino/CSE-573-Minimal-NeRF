{
 "cells": [
  {
   "cell_type": "code",
   "execution_count": null,
   "id": "1024667e",
   "metadata": {},
   "outputs": [],
   "source": [
    "import sys \n",
    "sys.path.append(\"../\")\n",
    "\n",
    "import nerf_model\n",
    "import dataloader\n",
    "import nerf_helpers\n",
    "\n",
    "import cv2\n",
    "from PIL import Image\n",
    "\n",
    "import gc\n",
    "import torch\n",
    "import itertools\n",
    "import numpy as np\n",
    "from tqdm import tqdm\n",
    "import torch.nn.functional as F\n",
    "\n",
    "import plotly.express as px\n",
    "import plotly.graph_objects as go\n",
    "from plotly.subplots import make_subplots"
   ]
  },
  {
   "cell_type": "code",
   "execution_count": null,
   "id": "fa7a63d7",
   "metadata": {
    "scrolled": true
   },
   "outputs": [],
   "source": [
    "base_dir = '../data/lego/'\n",
    "sdl = dataloader.getSyntheticDataloader(base_dir, 'val', 1, num_workers=1, shuffle=True)\n",
    "\n",
    "batch = next(iter(sdl))\n",
    "nerf_helpers.fix_batchify(batch)\n",
    "print(batch.keys())\n",
    "print(batch['rgb'].shape)\n",
    "print(batch['origin'].shape)\n",
    "print(batch['direc'].shape)\n",
    "print(batch['xs'].shape)\n",
    "\n",
    "o_rays = batch['origin']\n",
    "d_rays = batch['direc']\n",
    "rgb = batch['rgb']\n",
    "xs = batch['xs']\n",
    "ys = batch['ys']"
   ]
  },
  {
   "cell_type": "markdown",
   "id": "ac0dab54",
   "metadata": {},
   "source": [
    "### Sampling"
   ]
  },
  {
   "cell_type": "code",
   "execution_count": null,
   "id": "af9f840f",
   "metadata": {},
   "outputs": [],
   "source": [
    "from importlib import reload\n",
    "dataloader = reload(dataloader)\n",
    "nerf_model = reload(nerf_model)\n",
    "nerf_helpers = reload(nerf_helpers)\n",
    "gc.collect()"
   ]
  },
  {
   "cell_type": "code",
   "execution_count": null,
   "id": "31be9a3d",
   "metadata": {},
   "outputs": [],
   "source": [
    "fig = make_subplots(specs=[[{\"secondary_y\": True}]])\n",
    "\n",
    "coarse_samples, coarse_ts = nerf_helpers.generate_coarse_samples(o_rays, d_rays, 5, 2., 6.)\n",
    "print(\"coarse_samples:\", coarse_samples)\n",
    "print(\"coarse_ts:\", coarse_ts)\n",
    "weights = torch.arange(1, 6., 1).view(coarse_ts.shape)\n",
    "print(\"weights:\", weights)\n",
    "num_samples = 10\n",
    "fine_samples, fine_ts = nerf_helpers.inverse_transform_sampling(o_rays, d_rays, weights, coarse_ts, num_samples)\n",
    "\n",
    "print(\"fine_samples:\", fine_samples)\n",
    "print(\"fine_ts:\", fine_ts)\n",
    "pic = visualize(fine_samples.view((-1,3)), 'black')\n",
    "cpic = visualize(coarse_samples.view((-1,3)), 'red')\n",
    "o = visualize(o_rays[0,None,:], 'purple')\n",
    "\n",
    "fig.add_trace(pic)\n",
    "fig.add_trace(cpic)\n",
    "fig.add_trace(o)\n",
    "fig.show()\n",
    "# print(fine_ts)"
   ]
  },
  {
   "cell_type": "markdown",
   "id": "e2a79a76",
   "metadata": {},
   "source": [
    "### Visualizing Datasets"
   ]
  },
  {
   "cell_type": "code",
   "execution_count": null,
   "id": "05a371fc",
   "metadata": {},
   "outputs": [],
   "source": [
    "def visualize(coords, rgb): \n",
    "    a, b = coords.shape\n",
    "    if b == 3:\n",
    "        coords = coords.T\n",
    "    if type(rgb) != str:\n",
    "        a, b = rgb.shape\n",
    "        if a == 3:\n",
    "            rgb = rgb.T\n",
    "    plot_fig = go.Scatter3d(x=coords[0], y=coords[1], z=coords[2], \n",
    "    mode='markers', marker=dict(\n",
    "       size=2,\n",
    "       color=rgb\n",
    "    ),)\n",
    "    return plot_fig\n",
    "\n",
    "def line_visualize(coords, rgb): \n",
    "    a, b = coords.shape\n",
    "    if b == 3:\n",
    "        coords = coords.T\n",
    "    if type(rgb) != str:\n",
    "        rgb = rgb.T\n",
    "    plot_fig = go.Scatter3d(x=coords[0], y=coords[1], z=coords[2], \n",
    "    mode='lines', line=dict(\n",
    "       width=1,\n",
    "       color=rgb\n",
    "    ),)\n",
    "    return plot_fig"
   ]
  },
  {
   "cell_type": "code",
   "execution_count": null,
   "id": "d58c0c07",
   "metadata": {},
   "outputs": [],
   "source": [
    "# visualize as points\n",
    "fig = make_subplots(specs=[[{\"secondary_y\": True}]])\n",
    "\n",
    "for i, batch in enumerate(iter(sdl)):\n",
    "    if i < 5:\n",
    "        continue\n",
    "    gc.collect()\n",
    "    nerf_helpers.fix_batchify(batch)\n",
    "    origins = batch['all_origin'].reshape((-1,3))[::10,:]\n",
    "    direcs = batch['all_direc'].reshape((-1, 3))[::10,:]\n",
    "    images = batch['image'].reshape((-1, 3))[::10,:]\n",
    "    im_coords = origins + 6 * direcs\n",
    "    pic = visualize(im_coords, images)\n",
    "    o = visualize(origins[0,None,:], 'purple')\n",
    "    fig.add_trace(pic)\n",
    "    fig.add_trace(o)\n",
    "fig.show()"
   ]
  },
  {
   "cell_type": "code",
   "execution_count": null,
   "id": "c2e84af0",
   "metadata": {},
   "outputs": [],
   "source": [
    "# visualize as line\n",
    "fig = make_subplots(specs=[[{\"secondary_y\": True}]])\n",
    "\n",
    "for i, batch in enumerate(iter(sdl)):\n",
    "    if i == 2:\n",
    "        break\n",
    "    gc.collect()\n",
    "    nerf_helpers.fix_batchify(batch)\n",
    "    origins = batch['all_origin'][200:600,200:600,:].reshape((-1,3))[::300,:]\n",
    "    direcs = batch['all_direc'][200:600,200:600,:].reshape((-1, 3))[::300,:]\n",
    "    images = batch['image'][200:600,200:600,:].reshape((-1, 3))[::300,:]\n",
    "    \n",
    "    samples, ts = nerf_helpers.generate_coarse_samples(origins, direcs, 16)\n",
    "    rgb = torch.broadcast_to(images[:, None, :], samples.shape)\n",
    "    rgb = rgb.reshape((-1,3)).T\n",
    "    samples = samples.view((-1,3))\n",
    "    pic = line_visualize(samples, rgb)\n",
    "    o = visualize(origins[0,None,:], 'purple')\n",
    "    fig.add_trace(pic)\n",
    "    fig.add_trace(o)\n",
    "fig.show()"
   ]
  },
  {
   "cell_type": "code",
   "execution_count": null,
   "id": "eb7c736e",
   "metadata": {},
   "outputs": [],
   "source": [
    "fig = make_subplots(specs=[[{\"secondary_y\": True}]])\n",
    "\n",
    "coarse_samples, coarse_ts = nerf_helpers.generate_coarse_samples(o_rays, d_rays, 64, 2., 6.)\n",
    "weights = torch.arange(1, 65, 1).view(coarse_ts.shape)\n",
    "\n",
    "num_samples = 128\n",
    "fine_samples, fine_ts = sample_pdf(o_rays, d_rays, weights, coarse_ts, num_samples)\n",
    "\n",
    "print(fine_samples.shape)\n",
    "pic = visualize(fine_samples.view((-1,3)), 'black')\n",
    "o = visualize(o_rays[0,None,:], 'purple')\n",
    "\n",
    "fig.add_trace(pic)\n",
    "fig.add_trace(o)\n",
    "fig.show()"
   ]
  },
  {
   "cell_type": "code",
   "execution_count": null,
   "id": "78a3870a",
   "metadata": {},
   "outputs": [],
   "source": [
    "fig = make_subplots(specs=[[{\"secondary_y\": True}]])\n",
    "\n",
    "coarse_samples, coarse_ts = nerf_helpers.generate_coarse_samples(o_rays, d_rays, 64, 2., 6.)\n",
    "weights = torch.arange(1, 65, 1).view(coarse_ts.shape)\n",
    "\n",
    "num_samples = 128\n",
    "fine_samples, fine_ts = nerf_helpers.inverse_transform_sampling(o_rays, d_rays, weights, coarse_ts, num_samples)\n",
    "\n",
    "print(fine_samples.shape)\n",
    "pic = visualize(fine_samples.view((-1,3)), 'black')\n",
    "cpic = visualize(coarse_samples.view((-1,3)), 'red')\n",
    "o = visualize(o_rays[0,None,:], 'purple')\n",
    "\n",
    "fig.add_trace(pic)\n",
    "fig.add_trace(cpic)\n",
    "fig.add_trace(o)\n",
    "fig.show()"
   ]
  },
  {
   "cell_type": "code",
   "execution_count": null,
   "id": "787b0d5c",
   "metadata": {},
   "outputs": [],
   "source": [
    "fig = go.Figure(go.Histogram(x=fine_ts.view((-1,))))\n",
    "fig.show()"
   ]
  },
  {
   "cell_type": "markdown",
   "id": "b124f20b",
   "metadata": {},
   "source": [
    "### Model Debugging"
   ]
  },
  {
   "cell_type": "code",
   "execution_count": null,
   "id": "3812cfd1",
   "metadata": {},
   "outputs": [],
   "source": [
    "network = nerf_model.NeRFNetwork(position_dim=10, direction_dim=4, coarse_samples=64,\n",
    "                 fine_samples=128)"
   ]
  },
  {
   "cell_type": "code",
   "execution_count": null,
   "id": "66314775",
   "metadata": {},
   "outputs": [],
   "source": [
    "network.train()\n",
    "pred_dict = network.forward(o_rays, d_rays)\n",
    "fine_rgbs = pred_dict['fine_rgb_rays']\n",
    "coarse_rgbs = pred_dict['coarse_rgb_rays']\n",
    "\n",
    "fine_loss = F.mse_loss(fine_rgbs, rgb)\n",
    "coarse_loss = F.mse_loss(coarse_rgbs, rgb)\n",
    "loss = coarse_loss + fine_loss\n",
    "loss.backward()\n",
    "print(loss)"
   ]
  },
  {
   "cell_type": "markdown",
   "id": "c73a9709",
   "metadata": {},
   "source": [
    "### NeRF Model Overfitting Check"
   ]
  },
  {
   "cell_type": "code",
   "execution_count": null,
   "id": "76ddbcb2",
   "metadata": {},
   "outputs": [],
   "source": [
    "model = nerf_model.NeRFModel()\n",
    "optimizer = torch.optim.Adam(model.parameters(), lr=5e-5)\n",
    "\n",
    "o_rays = torch.rand((16, 3))\n",
    "d_rays = torch.rand((16, 3))\n",
    "\n",
    "gt_rgb = torch.rand((16,3))\n",
    "\n",
    "\n",
    "\n",
    "for i in range(10000):\n",
    "    coarse_samples, coarse_ts = nerf_helpers.generate_coarse_samples(o_rays, d_rays, 64, 2.0, 6.0)\n",
    "    coarse_density, coarse_rgb = model(coarse_samples, d_rays)\n",
    "    coarse_deltas = nerf_helpers.generate_deltas(coarse_ts)\n",
    "    coarse_weights = nerf_helpers.calculate_unnormalized_weights(coarse_density, coarse_deltas)\n",
    "    coarse_rgb_ray = nerf_helpers.estimate_ray_color(coarse_weights, coarse_rgb)\n",
    "    \n",
    "    loss = F.mse_loss(coarse_rgb_ray, gt_rgb)\n",
    "    if i % 100 == 0:\n",
    "        print(i, loss)\n",
    "    optimizer.zero_grad()\n",
    "    loss.backward()\n",
    "    optimizer.step()\n",
    "    "
   ]
  },
  {
   "cell_type": "code",
   "execution_count": null,
   "id": "715d54b7",
   "metadata": {},
   "outputs": [],
   "source": [
    "print(coarse_rgb_ray)\n",
    "print(gt_rgb)"
   ]
  },
  {
   "cell_type": "code",
   "execution_count": null,
   "id": "14c0a9ea",
   "metadata": {},
   "outputs": [],
   "source": []
  }
 ],
 "metadata": {
  "kernelspec": {
   "display_name": "Python 3",
   "language": "python",
   "name": "python3"
  },
  "language_info": {
   "codemirror_mode": {
    "name": "ipython",
    "version": 3
   },
   "file_extension": ".py",
   "mimetype": "text/x-python",
   "name": "python",
   "nbconvert_exporter": "python",
   "pygments_lexer": "ipython3",
   "version": "3.8.8"
  }
 },
 "nbformat": 4,
 "nbformat_minor": 5
}
