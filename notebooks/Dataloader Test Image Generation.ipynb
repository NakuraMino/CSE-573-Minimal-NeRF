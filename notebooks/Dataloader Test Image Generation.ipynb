{
 "cells": [
  {
   "cell_type": "code",
   "execution_count": null,
   "id": "3c1082ce",
   "metadata": {},
   "outputs": [],
   "source": [
    "import sys \n",
    "sys.path.append(\"../\")\n",
    "\n",
    "import nerf_model\n",
    "import dataloader\n",
    "import nerf_helpers\n",
    "\n",
    "import plotly\n",
    "import torch \n",
    "import cv2\n",
    "from PIL import Image\n",
    "import itertools \n",
    "import numpy as np\n",
    "from plotly.subplots import make_subplots\n",
    "import plotly.graph_objects as go\n",
    "import numpy as np\n",
    "import plotly.express as px\n",
    "import nerf_helpers"
   ]
  },
  {
   "cell_type": "code",
   "execution_count": null,
   "id": "76dc8881",
   "metadata": {},
   "outputs": [],
   "source": [
    "def visualize(coords, rgb): \n",
    "    a, b = coords.shape\n",
    "    if b == 3:\n",
    "        coords = coords.T\n",
    "    if type(rgb) != str:\n",
    "        rgb = rgb.T\n",
    "    plot_fig = go.Scatter3d(x=coords[0], y=coords[1], z=coords[2], \n",
    "    mode='markers', marker=dict(\n",
    "       size=2,\n",
    "       color=rgb\n",
    "    ))\n",
    "    return plot_fig"
   ]
  },
  {
   "cell_type": "code",
   "execution_count": null,
   "id": "adc065d7",
   "metadata": {},
   "outputs": [],
   "source": [
    "from importlib import reload \n",
    "nerf_helpers = reload(nerf_helpers)"
   ]
  },
  {
   "cell_type": "code",
   "execution_count": null,
   "id": "112b0538",
   "metadata": {},
   "outputs": [],
   "source": [
    "base_dir = '../tests/test_data/'\n",
    "\n",
    "ds = dataloader.SyntheticDataset(base_dir, 'train', 4096)\n",
    "batch = ds[0]\n",
    "origin = batch['origin']\n",
    "direc = batch['direc']\n",
    "rgb = batch['rgba']\n",
    "\n",
    "dl = dataloader.getSyntheticDataloader(base_dir, 'train', 4096, num_workers=1, shuffle=True)\n",
    "dl_batch = next(iter(dl))"
   ]
  },
  {
   "cell_type": "markdown",
   "id": "56f362af",
   "metadata": {},
   "source": [
    "## Inverse Transform Sampling"
   ]
  },
  {
   "cell_type": "code",
   "execution_count": null,
   "id": "66921a20",
   "metadata": {},
   "outputs": [],
   "source": [
    "from importlib import reload \n",
    "nerf_helpers = reload(nerf_helpers)\n",
    "import gc \n",
    "gc.collect()"
   ]
  },
  {
   "cell_type": "code",
   "execution_count": null,
   "id": "3a5aac2e",
   "metadata": {},
   "outputs": [],
   "source": [
    "samples, ts = nerf_helpers.generate_coarse_samples(origin, direc, 10)\n",
    "deltas = nerf_helpers.generate_deltas(ts)\n",
    "\n",
    "density = torch.rand((4096, 10, 1))\n",
    "# weights = nerf_helpers.calculate_unnormalized_weights(density, deltas)\n",
    "weights = torch.rand((4096,10,1))\n",
    "weights[:,8:,:] += 10\n",
    "fine_samples, fine_ts = nerf_helpers.inverse_transform_sampling(origin, direc, weights, ts, 100)\n",
    "\n",
    "print(\"ts:\",ts.shape)\n",
    "print(\"weights:\", weights.shape)\n",
    "print(\"samples:\", samples.shape)\n",
    "print(\"fine_samples\", fine_samples.shape)\n",
    "print(\"fine_ts\", fine_ts.shape)\n"
   ]
  },
  {
   "cell_type": "code",
   "execution_count": null,
   "id": "360cf230",
   "metadata": {},
   "outputs": [],
   "source": [
    "fig = px.histogram(weights.view((-1,1)), nbins=10) #, range_x=(0,1))\n",
    "fig.show()\n"
   ]
  },
  {
   "cell_type": "code",
   "execution_count": null,
   "id": "f28c0c89",
   "metadata": {},
   "outputs": [],
   "source": [
    "fig = px.histogram(fine_ts.view((-1,1)), nbins=10) #, range_x=(0,1))\n",
    "fig.show()\n",
    "\n",
    "fig = make_subplots(specs=[[{\"secondary_y\": True}]])\n",
    "pic = visualize(fine_samples.view((-1,3))[::101,:], 'pink')\n",
    "fig.add_trace(pic)\n",
    "fig.show()"
   ]
  },
  {
   "cell_type": "code",
   "execution_count": null,
   "id": "88f2724b",
   "metadata": {},
   "outputs": [],
   "source": [
    "fig = px.histogram(ts.view((-1,1)), nbins=10) #, range_x=(0,1))\n",
    "fig.show()\n",
    "\n",
    "fig = make_subplots(specs=[[{\"secondary_y\": True}]])\n",
    "pic = visualize(samples.view((-1,3)), 'pink')\n",
    "fig.add_trace(pic)\n",
    "fig.show()"
   ]
  },
  {
   "cell_type": "markdown",
   "id": "260f520c",
   "metadata": {},
   "source": [
    "## Categorial not fun"
   ]
  },
  {
   "cell_type": "code",
   "execution_count": null,
   "id": "a7dacfe9",
   "metadata": {},
   "outputs": [],
   "source": [
    "from torch.distributions import Categorical\n",
    "\n",
    "weights = weights / torch.sum(weights, dim=1, keepdims=True)\n",
    "weights = weights.squeeze(-1)\n",
    "# weights = torch.ones((4096,64)) / (4096 * 64)\n",
    "dist = Categorical(weights)\n",
    "samples = dist.sample((1, 192)).T\n",
    "fine_ts = torch.gather(ts, 1, samples)\n",
    "print(samples.shape)\n",
    "print(fine_ts.shape)"
   ]
  },
  {
   "cell_type": "code",
   "execution_count": null,
   "id": "3d4f6344",
   "metadata": {},
   "outputs": [],
   "source": [
    "fig = px.histogram(fine_ts.view((-1,1)))\n",
    "fig.show()"
   ]
  },
  {
   "cell_type": "markdown",
   "id": "37c1a2e2",
   "metadata": {},
   "source": [
    "## Implementing estimate_expected_ray_color"
   ]
  },
  {
   "cell_type": "code",
   "execution_count": null,
   "id": "fb2ba22e",
   "metadata": {},
   "outputs": [],
   "source": [
    "import nerf_helpers\n",
    "nerf_helpers = reload(nerf_helpers)\n",
    "samples = 64\n",
    "N = 4096\n",
    "# density: [N x samples x 1]\n",
    "# rgb: [N x samples x 3]\n",
    "# deltas: [N x samples x 1]\n",
    "\n",
    "density = torch.rand((N,samples,1))\n",
    "rgb = torch.rand((N,samples,3))\n",
    "deltas = torch.rand((N,samples,1))\n",
    "\n",
    "neg_delta_density = - 1 * density * deltas\n",
    "\n",
    "# [N x samples x 3]\n",
    "transparency =  torch.exp(torch.cumsum(- 1 * neg_delta_density, dim=1))\n",
    "print(transparency.shape)\n",
    "weights = 1 - torch.exp(neg_delta_density)\n",
    "ray_color = torch.sum(transparency * weights * rgb, dim=1)\n",
    "print(weights.shape)\n",
    "print(ray_color.shape)"
   ]
  },
  {
   "cell_type": "markdown",
   "id": "e7e1765d",
   "metadata": {},
   "source": [
    "## Implementing Sampling Scheme"
   ]
  },
  {
   "cell_type": "code",
   "execution_count": null,
   "id": "33c3d8fc",
   "metadata": {},
   "outputs": [],
   "source": [
    "import nerf_helpers\n",
    "nerf_helpers = reload(nerf_helpers)\n",
    "\n",
    "print(dl_batch['origin'].shape)\n",
    "nerf_helpers.fix_batchify(dl_batch)\n",
    "print(dl_batch['origin'].shape)\n",
    "\n",
    "coarse = 64\n",
    "t = torch.linspace(0,1,steps=coarse).unsqueeze(0)\n",
    "print(t.shape)"
   ]
  },
  {
   "cell_type": "code",
   "execution_count": null,
   "id": "8ec97dad",
   "metadata": {},
   "outputs": [],
   "source": [
    "origin = dl_batch['origin'].unsqueeze(1)\n",
    "direc = dl_batch['direc'].unsqueeze(1)\n",
    "ts, _ = torch.meshgrid(torch.arange(coarse), torch.arange(4096), indexing='xy')\n",
    "rand = torch.rand(ts.shape)\n",
    "ts = (ts + rand) / coarse\n",
    "ts = ts.unsqueeze(-1)\n",
    "samples = direc * ts + origin\n",
    "del _"
   ]
  },
  {
   "cell_type": "code",
   "execution_count": null,
   "id": "f40682ed",
   "metadata": {},
   "outputs": [],
   "source": [
    "origin = dl_batch['origin']\n",
    "direc = dl_batch['direc']\n",
    "def generate_samples(o_rays, d_rays, num_samples): \n",
    "    N, _ = o_rays.shape\n",
    "    o_rays = o_rays.unsqueeze(1)\n",
    "    d_rays = d_rays.unsqueeze(1)\n",
    "    ts, _ = torch.meshgrid(torch.arange(num_samples), torch.arange(N), indexing='xy')\n",
    "    del _ \n",
    "    rand = torch.rand(ts.shape)\n",
    "    ts = (ts + rand) / num_samples\n",
    "    ts = ts.unsqueeze(-1)\n",
    "    samples = d_rays * ts + o_rays\n",
    "    return samples, ts\n",
    "\n",
    "samples, ts = generate_samples(origin, direc, 64)\n",
    "print(samples.shape)\n",
    "print(ts.shape)"
   ]
  },
  {
   "cell_type": "code",
   "execution_count": null,
   "id": "e18e4bbb",
   "metadata": {},
   "outputs": [],
   "source": [
    "def generate_deltas(ts): \n",
    "    N, samples, _ = ts.shape\n",
    "    upper_bound = torch.cat([ts[:,1:,:], torch.ones((N, 1, 1))], dim=1)\n",
    "    deltas = upper_bound - ts\n",
    "    return deltas\n",
    "deltas = generate_deltas(ts)\n"
   ]
  },
  {
   "cell_type": "code",
   "execution_count": null,
   "id": "dad28e94",
   "metadata": {},
   "outputs": [],
   "source": [
    "fig = make_subplots(specs=[[{\"secondary_y\": True}]])\n",
    "\n",
    "samples = samples.view((-1,3))\n",
    "origin_fig = visualize(samples.T, 'black')\n",
    "fig.add_trace(origin_fig)\n",
    "\n",
    "fig.show()"
   ]
  },
  {
   "cell_type": "markdown",
   "id": "8866e47f",
   "metadata": {},
   "source": [
    "## Check Dataloader Coordinates"
   ]
  },
  {
   "cell_type": "code",
   "execution_count": null,
   "id": "a2f2034f",
   "metadata": {},
   "outputs": [],
   "source": [
    "print(rgb.shape)"
   ]
  },
  {
   "cell_type": "code",
   "execution_count": null,
   "id": "6d9fad2a",
   "metadata": {},
   "outputs": [],
   "source": [
    "fig = make_subplots(specs=[[{\"secondary_y\": True}]])\n",
    "\n",
    "origin_fig = visualize(origin.T, rgb)\n",
    "fig.add_trace(origin_fig)\n",
    "\n",
    "direc_fig = visualize(direc.T, rgb)\n",
    "fig.add_trace(direc_fig)\n",
    "\n",
    "\n",
    "fig.show()"
   ]
  },
  {
   "cell_type": "markdown",
   "id": "5526ec10",
   "metadata": {},
   "source": [
    "## Generate Test Image"
   ]
  },
  {
   "cell_type": "code",
   "execution_count": null,
   "id": "0791af21",
   "metadata": {},
   "outputs": [],
   "source": [
    "size = 50\n",
    "gradient = np.expand_dims(np.linspace([0]*50, [1]*50, num=size, endpoint=True), -1)\n",
    "image = np.zeros((size, size,3)) + gradient\n",
    "image[:,:,0] = 1 - image[:,:,0] \n",
    "image = (image * 255).clip(0, 255).astype(np.uint8)\n",
    "# image[:,:,3] = 1 - image[:,:,3] \n",
    "print(image.shape)"
   ]
  },
  {
   "cell_type": "code",
   "execution_count": null,
   "id": "23e80610",
   "metadata": {},
   "outputs": [],
   "source": [
    "im = Image.fromarray(image)\n",
    "im.save('test1.png')"
   ]
  },
  {
   "cell_type": "code",
   "execution_count": null,
   "id": "3fc95b62",
   "metadata": {},
   "outputs": [],
   "source": [
    "def sample_random_coordinates(N, height, width): \n",
    "    \"\"\"Returns [Nx4] randomly sampled coordinates in camera frame\n",
    "    \"\"\"\n",
    "    xs = torch.randint(0, height, size=(N,))\n",
    "    ys = torch.randint(0, width, size=(N,))\n",
    "    return xs, ys\n",
    "\n",
    "torch.manual_seed(0)\n",
    "xs, ys = sample_random_coordinates(1, 50, 50)\n",
    "print(xs, ys)\n"
   ]
  }
 ],
 "metadata": {
  "kernelspec": {
   "display_name": "Python 3",
   "language": "python",
   "name": "python3"
  },
  "language_info": {
   "codemirror_mode": {
    "name": "ipython",
    "version": 3
   },
   "file_extension": ".py",
   "mimetype": "text/x-python",
   "name": "python",
   "nbconvert_exporter": "python",
   "pygments_lexer": "ipython3",
   "version": "3.8.8"
  }
 },
 "nbformat": 4,
 "nbformat_minor": 5
}
