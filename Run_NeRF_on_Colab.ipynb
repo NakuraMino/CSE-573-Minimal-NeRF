{
  "cells": [
    {
      "cell_type": "code",
      "execution_count": null,
      "metadata": {
        "id": "uUQpFunsw-Sb"
      },
      "outputs": [],
      "source": [
        "!nvidia-smi"
      ]
    },
    {
      "cell_type": "code",
      "execution_count": null,
      "metadata": {
        "id": "oD-7Zdx-yH7v"
      },
      "outputs": [],
      "source": [
        "# mount gdrive\n",
        "from google.colab import drive\n",
        "drive.mount('/content/drive', force_remount=True)\n",
        "\n",
        "# install libraries not on colab default\n",
        "!pip install wandb\n",
        "!pip install pytorch-lightning\n",
        "\n",
        "# clone repository\n",
        "!git clone https://github.com/NakuraMino/CSEP573-NeRF.git\n",
        "%cd CSEP573-NeRF/\n",
        "\n",
        "# download dataset\n",
        "!./download_data.sh"
      ]
    },
    {
      "cell_type": "code",
      "execution_count": null,
      "metadata": {
        "colab": {
          "background_save": true
        },
        "id": "a-ZjQq0Qze5E"
      },
      "outputs": [],
      "source": [
        "# train NeRF model\n",
        "!python train_nerf.py -n lego_nerf --gpu -s 120000 -rd ROOT_DIR \\\n",
        "                      -r 4096 full -b BASE_DIR -cr 0"
      ]
    },
    {
      "cell_type": "code",
      "execution_count": null,
      "metadata": {
        "id": "W3-yZLJv0ma4"
      },
      "outputs": [],
      "source": [
        "# render 360 view gif.\n",
        "!python render.py -c CKPT_PATH -r 2000 -s SAVE_DIR"
      ]
    }
  ],
  "metadata": {
    "accelerator": "GPU",
    "colab": {
      "background_execution": "on",
      "collapsed_sections": [],
      "name": "Run NeRF on Colab.ipynb",
      "provenance": []
    },
    "kernelspec": {
      "display_name": "Python 3",
      "name": "python3"
    },
    "language_info": {
      "name": "python"
    }
  },
  "nbformat": 4,
  "nbformat_minor": 0
}