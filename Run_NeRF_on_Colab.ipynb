{
  "cells": [
    {
      "cell_type": "code",
      "execution_count": null,
      "metadata": {
        "id": "uUQpFunsw-Sb"
      },
      "outputs": [],
      "source": [
        "!nvidia-smi"
      ]
    },
    {
      "cell_type": "code",
      "execution_count": null,
      "metadata": {
        "id": "oD-7Zdx-yH7v"
      },
      "outputs": [],
      "source": [
        "from google.colab import drive\n",
        "drive.mount('/content/drive', force_remount=True)\n",
        "\n",
        "!git clone https://github.com/NakuraMino/CSEP573-NeRF.git\n",
        "%cd CSEP573-NeRF/\n",
        "!git checkout debugging\n",
        "!./download_data.sh\n",
        "!pip install pytorch-lightning\n",
        "!pip install wandb"
      ]
    },
    {
      "cell_type": "code",
      "execution_count": null,
      "metadata": {
        "colab": {
          "background_save": true,
          "base_uri": "https://localhost:8080/"
        },
        "id": "a-ZjQq0Qze5E",
        "outputId": "8b760dd4-f5f9-4048-864f-919eb1ffcb17"
      },
      "outputs": [
        {
          "output_type": "stream",
          "name": "stdout",
          "text": [
            "Epoch 812:   0% 0/100 [00:00<?, ?it/s, loss=0.00403, v_num=ic5j, grad_2.0_norm/coarse_network.mlp.0.weight_step=0.0077, grad_2.0_norm/coarse_network.mlp.0.bias_step=0.0013, grad_2.0_norm/coarse_network.mlp.2.weight_step=0.0046, grad_2.0_norm/coarse_network.mlp.2.bias_step=0.001, grad_2.0_norm/coarse_network.mlp.4.weight_step=0.0025, grad_2.0_norm/coarse_network.mlp.4.bias_step=0.0011, grad_2.0_norm/coarse_network.mlp.6.weight_step=0.0014, grad_2.0_norm/coarse_network.mlp.6.bias_step=0.0008, grad_2.0_norm/coarse_network.feature_fn.0.weight_step=0.0043, grad_2.0_norm/coarse_network.feature_fn.0.bias_step=0.0007, grad_2.0_norm/coarse_network.feature_fn.2.weight_step=0.0029, grad_2.0_norm/coarse_network.feature_fn.2.bias_step=0.0008, grad_2.0_norm/coarse_network.feature_fn.4.weight_step=0.0012, grad_2.0_norm/coarse_network.feature_fn.4.bias_step=0.0004, grad_2.0_norm/coarse_network.density_fn.0.weight_step=0.0002, grad_2.0_norm/coarse_network.density_fn.0.bias_step=0.000, grad_2.0_norm/coarse_network.rgb_fn.0.weight_step=0.0028, grad_2.0_norm/coarse_network.rgb_fn.0.bias_step=0.0003, grad_2.0_norm/coarse_network.rgb_fn.2.weight_step=0.0011, grad_2.0_norm/coarse_network.rgb_fn.2.bias_step=0.0002, grad_2.0_norm/fine_network.mlp.0.weight_step=0.0055, grad_2.0_norm/fine_network.mlp.0.bias_step=0.001, grad_2.0_norm/fine_network.mlp.2.weight_step=0.0042, grad_2.0_norm/fine_network.mlp.2.bias_step=0.001, grad_2.0_norm/fine_network.mlp.4.weight_step=0.0022, grad_2.0_norm/fine_network.mlp.4.bias_step=0.0013, grad_2.0_norm/fine_network.mlp.6.weight_step=0.0007, grad_2.0_norm/fine_network.mlp.6.bias_step=0.0006, grad_2.0_norm/fine_network.feature_fn.0.weight_step=0.0022, grad_2.0_norm/fine_network.feature_fn.0.bias_step=0.0004, grad_2.0_norm/fine_network.feature_fn.2.weight_step=0.0014, grad_2.0_norm/fine_network.feature_fn.2.bias_step=0.0004, grad_2.0_norm/fine_network.feature_fn.4.weight_step=0.0006, grad_2.0_norm/fine_network.feature_fn.4.bias_step=0.0002, grad_2.0_norm/fine_network.density_fn.0.weight_step=0.0001, grad_2.0_norm/fine_network.density_fn.0.bias_step=0.000, grad_2.0_norm/fine_network.rgb_fn.0.weight_step=0.0023, grad_2.0_norm/fine_network.rgb_fn.0.bias_step=0.0001, grad_2.0_norm/fine_network.rgb_fn.2.weight_step=0.0016, grad_2.0_norm/fine_network.rgb_fn.2.bias_step=0.0001, grad_2.0_norm_total_step=0.0143, grad_2.0_norm/coarse_network.mlp.0.weight_epoch=0.00549, grad_2.0_norm/coarse_network.mlp.0.bias_epoch=0.00105, grad_2.0_norm/coarse_network.mlp.2.weight_epoch=0.00383, grad_2.0_norm/coarse_network.mlp.2.bias_epoch=0.000891, grad_2.0_norm/coarse_network.mlp.4.weight_epoch=0.00237, grad_2.0_norm/coarse_network.mlp.4.bias_epoch=0.00113, grad_2.0_norm/coarse_network.mlp.6.weight_epoch=0.00132, grad_2.0_norm/coarse_network.mlp.6.bias_epoch=0.00086, grad_2.0_norm/coarse_network.feature_fn.0.weight_epoch=0.00419, grad_2.0_norm/coarse_network.feature_fn.0.bias_epoch=0.000788, grad_2.0_norm/coarse_network.feature_fn.2.weight_epoch=0.00282, grad_2.0_norm/coarse_network.feature_fn.2.bias_epoch=0.000948, grad_2.0_norm/coarse_network.feature_fn.4.weight_epoch=0.00126, grad_2.0_norm/coarse_network.feature_fn.4.bias_epoch=0.000517, grad_2.0_norm/coarse_network.density_fn.0.weight_epoch=0.000212, grad_2.0_norm/coarse_network.density_fn.0.bias_epoch=2.8e-5, grad_2.0_norm/coarse_network.rgb_fn.0.weight_epoch=0.0032, grad_2.0_norm/coarse_network.rgb_fn.0.bias_epoch=0.000272, grad_2.0_norm/coarse_network.rgb_fn.2.weight_epoch=0.00139, grad_2.0_norm/coarse_network.rgb_fn.2.bias_epoch=0.000218, grad_2.0_norm/fine_network.mlp.0.weight_epoch=0.00554, grad_2.0_norm/fine_network.mlp.0.bias_epoch=0.00108, grad_2.0_norm/fine_network.mlp.2.weight_epoch=0.00404, grad_2.0_norm/fine_network.mlp.2.bias_epoch=0.001, grad_2.0_norm/fine_network.mlp.4.weight_epoch=0.00226, grad_2.0_norm/fine_network.mlp.4.bias_epoch=0.00139, grad_2.0_norm/fine_network.mlp.6.weight_epoch=0.000776, grad_2.0_norm/fine_network.mlp.6.bias_epoch=0.00079, grad_2.0_norm/fine_network.feature_fn.0.weight_epoch=0.00247, grad_2.0_norm/fine_network.feature_fn.0.bias_epoch=0.00049, grad_2.0_norm/fine_network.feature_fn.2.weight_epoch=0.00149, grad_2.0_norm/fine_network.feature_fn.2.bias_epoch=0.000506, grad_2.0_norm/fine_network.feature_fn.4.weight_epoch=0.00062, grad_2.0_norm/fine_network.feature_fn.4.bias_epoch=0.000264, grad_2.0_norm/fine_network.density_fn.0.weight_epoch=0.000119, grad_2.0_norm/fine_network.density_fn.0.bias_epoch=5e-6, grad_2.0_norm/fine_network.rgb_fn.0.weight_epoch=0.00204, grad_2.0_norm/fine_network.rgb_fn.0.bias_epoch=0.000123, grad_2.0_norm/fine_network.rgb_fn.2.weight_epoch=0.00177, grad_2.0_norm/fine_network.rgb_fn.2.bias_epoch=0.000174, grad_2.0_norm_total_epoch=0.0133]"
          ]
        }
      ],
      "source": [
        "!python train_nerf.py -n lego_nerf --gpu -s 120000 -rd ROOT_DIR \\\n",
        "                      -r 4096 full -b BASE_DIR -cr 0"
      ]
    },
    {
      "cell_type": "code",
      "execution_count": null,
      "metadata": {
        "id": "W3-yZLJv0ma4"
      },
      "outputs": [],
      "source": [
        "!python render.py -c CKPT_PATH -r 2000 -s SAVE_DIR"
      ]
    }
  ],
  "metadata": {
    "accelerator": "GPU",
    "colab": {
      "background_execution": "on",
      "collapsed_sections": [],
      "name": "Run NeRF on Colab.ipynb",
      "provenance": []
    },
    "kernelspec": {
      "display_name": "Python 3",
      "name": "python3"
    },
    "language_info": {
      "name": "python"
    }
  },
  "nbformat": 4,
  "nbformat_minor": 0
}